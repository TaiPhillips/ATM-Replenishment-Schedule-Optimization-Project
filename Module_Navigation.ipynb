{
 "cells": [
  {
   "cell_type": "code",
   "execution_count": null,
   "metadata": {},
   "outputs": [],
   "source": [
    "Public Const sheet_Parameters = \"Enter Parameters\"\n",
    "Public Const sheet_SelectATM = \"Select ATM to Analyze\"\n",
    "Public Const sheet_AnalyzeSchedule = \"Analyze Replenishment Schedule\"\n",
    "Public Const sheet_CashTransactions = \"ATM Cash Transactions\"\n",
    "Public Const sheet_ATMCost = \"ATM Cost of Ownership\"\n",
    "Public Const sheet_OffPremise = \"Off-Premise ATM\"\n",
    "Public Const database_ATM = \"ATM Database.accdb\"\n",
    "Public Const query_Transactions = \"ATM Transactions Query\"\n",
    "Public Const workbook_Temp = \"ATM_Temp.xlsx\"\n",
    "\n",
    "\n",
    "Sub GoTo_Parameters()\n",
    "    Sheets(sheet_Parameters).Select\n",
    "End Sub\n",
    "\n",
    "Sub GoTo_SelectATM()\n",
    "    Sheets(sheet_SelectATM).Select\n",
    "End Sub\n",
    "\n",
    "Sub GoTo_AnalyzeSchedule()\n",
    "    Sheets(sheet_AnalyzeSchedule).Select\n",
    "End Sub\n",
    "\n",
    "Sub GoTo_CashTransactions()\n",
    "    Sheets(sheet_CashTransactions).Select\n",
    "End Sub\n",
    "\n",
    "Sub GoTo_ATMCost()\n",
    "    Sheets(sheet_ATMCost).Select\n",
    "End Sub\n",
    "\n",
    "Sub GoTo_OffPremise()\n",
    "    Sheets(sheet_OffPremise).Select\n",
    "End Sub\n"
   ]
  }
 ],
 "metadata": {
  "kernelspec": {
   "display_name": "R",
   "language": "R",
   "name": "ir"
  },
  "language_info": {
   "codemirror_mode": "r",
   "file_extension": ".r",
   "mimetype": "text/x-r-source",
   "name": "R",
   "pygments_lexer": "r",
   "version": "3.4.3"
  }
 },
 "nbformat": 4,
 "nbformat_minor": 2
}
